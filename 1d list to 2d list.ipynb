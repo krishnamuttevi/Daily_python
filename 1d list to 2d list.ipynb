{
 "cells": [
  {
   "cell_type": "code",
   "execution_count": 8,
   "id": "12108a87-6fe7-434e-a00c-a4f5ef920920",
   "metadata": {},
   "outputs": [
    {
     "name": "stdin",
     "output_type": "stream",
     "text": [
      "Gimme the array (space-separated integers):  4 5 6 56\n",
      "Gimme the number of rows & columns for 2D list (space-separated):  2 2\n"
     ]
    },
    {
     "name": "stdout",
     "output_type": "stream",
     "text": [
      "[[4, 5], [6, 56]]\n"
     ]
    }
   ],
   "source": [
    "def construct2DArray(original, m, n):\n",
    "    \"\"\"\n",
    "    :type original: List[int]\n",
    "    :type m: int\n",
    "    :type n: int\n",
    "    :rtype: List[List[int]]\n",
    "    \"\"\"\n",
    "    if (m * n == len(original)):\n",
    "        arr = []\n",
    "        sumj = 0\n",
    "        for j in range(m):\n",
    "            arr.append(original[sumj:sumj + n:1])\n",
    "            sumj += n\n",
    "        return arr\n",
    "    else:\n",
    "        return []\n",
    "# Input Handling\n",
    "original = list(map(int, input('Gimme the array (space-separated integers): ').split()))\n",
    "m, n = map(int, input('Gimme the number of rows & columns for 2D list (space-separated): ').split())\n",
    "result = construct2DArray(original, m, n)\n",
    "print(result)"
   ]
  },
  {
   "cell_type": "code",
   "execution_count": null,
   "id": "8c07949b-f8cc-4320-a871-30c2bb746aa8",
   "metadata": {},
   "outputs": [],
   "source": []
  },
  {
   "cell_type": "code",
   "execution_count": null,
   "id": "1ea9763b-311e-4640-9e31-46f667270361",
   "metadata": {},
   "outputs": [],
   "source": []
  },
  {
   "cell_type": "code",
   "execution_count": null,
   "id": "f344e6d2-c44a-430b-ae19-f26fae7cf146",
   "metadata": {},
   "outputs": [],
   "source": []
  }
 ],
 "metadata": {
  "kernelspec": {
   "display_name": "Python 3 (ipykernel)",
   "language": "python",
   "name": "python3"
  },
  "language_info": {
   "codemirror_mode": {
    "name": "ipython",
    "version": 3
   },
   "file_extension": ".py",
   "mimetype": "text/x-python",
   "name": "python",
   "nbconvert_exporter": "python",
   "pygments_lexer": "ipython3",
   "version": "3.11.7"
  }
 },
 "nbformat": 4,
 "nbformat_minor": 5
}
